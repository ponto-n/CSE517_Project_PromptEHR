{
 "cells": [
  {
   "attachments": {},
   "cell_type": "markdown",
   "metadata": {},
   "source": [
    "# Test File\n",
    "As of 1/26/2023 this file is just to test out the PromptEHR starter code from\n",
    "the [README here](https://github.com/RyanWangZf/PromptEHR)"
   ]
  },
  {
   "cell_type": "code",
   "execution_count": 1,
   "metadata": {},
   "outputs": [
    {
     "name": "stderr",
     "output_type": "stream",
     "text": [
      "c:\\Users\\noah\\miniconda3\\envs\\cse517\\lib\\site-packages\\tqdm\\auto.py:22: TqdmWarning: IProgress not found. Please update jupyter and ipywidgets. See https://ipywidgets.readthedocs.io/en/stable/user_install.html\n",
      "  from .autonotebook import tqdm as notebook_tqdm\n",
      "The tokenizer class you load from this checkpoint is not the same type as the class this function is called from. It may result in unexpected tokenization. \n",
      "The tokenizer class you load from this checkpoint is 'BartTokenizer'. \n",
      "The class this function is called from is 'DataTokenizer'.\n"
     ]
    },
    {
     "name": "stdout",
     "output_type": "stream",
     "text": [
      "Load pretrained PromptEHR model from ./simulation/pretrained_promptEHR\n",
      "Load the pre-trained model from: ./simulation/pretrained_promptEHR\n"
     ]
    }
   ],
   "source": [
    "from promptehr import SequencePatient\n",
    "from promptehr import load_synthetic_data\n",
    "from promptehr import PromptEHR\n",
    "\n",
    "# init model\n",
    "model = PromptEHR()\n",
    "model.from_pretrained()\n",
    "\n",
    "# load input data\n",
    "demo = load_synthetic_data(n_sample=10) # we have 10,000 samples in total\n",
    "\n",
    "# build the standard input data for train or test PromptEHR models\n",
    "seqdata = SequencePatient(data={'v':demo['visit'], 'y':demo['y'], 'x':demo['feature'],},\n",
    "    metadata={\n",
    "        'visit':{'mode':'dense'},\n",
    "        'label':{'mode':'tensor'}, \n",
    "        'voc':demo['voc'],\n",
    "        'max_visit':20,\n",
    "        }\n",
    "    )\n",
    "# you can try to fit on this data by\n",
    "# model.fit(seqdata)"
   ]
  },
  {
   "cell_type": "code",
   "execution_count": 3,
   "metadata": {},
   "outputs": [],
   "source": [
    "# start generate\n",
    "# n: the target total number of samples to generate\n",
    "# n_per_sample: based on each sample, how many fake samples will be generated\n",
    "# the output will have the same format of `SequencePatient`\n",
    "fake_data = model.predict(seqdata, n=10, n_per_sample=10)"
   ]
  },
  {
   "cell_type": "code",
   "execution_count": 17,
   "metadata": {},
   "outputs": [
    {
     "name": "stdout",
     "output_type": "stream",
     "text": [
      "visit:              list\n",
      "feature:            numpy.ndarray\n",
      "order:              list\n",
      "n_num_feature:      int\n",
      "cat_cardinalties:   list\n",
      "y:                  list\n",
      "voc:                dict\n"
     ]
    }
   ],
   "source": [
    "# Print each key in the fake_data dictionary and show what datatype it contains\n",
    "for key in fake_data:\n",
    "    print(f'{str(key)+\":\":<20}{str(type(fake_data[key]))[8:-2]}')"
   ]
  }
 ],
 "metadata": {
  "kernelspec": {
   "display_name": "cse517",
   "language": "python",
   "name": "python3"
  },
  "language_info": {
   "codemirror_mode": {
    "name": "ipython",
    "version": 3
   },
   "file_extension": ".py",
   "mimetype": "text/x-python",
   "name": "python",
   "nbconvert_exporter": "python",
   "pygments_lexer": "ipython3",
   "version": "3.9.16"
  },
  "orig_nbformat": 4,
  "vscode": {
   "interpreter": {
    "hash": "242f5d3bdbd3a781d1bbc500e61b51d7fa34c05daa78f3828940a4b346b90b1d"
   }
  }
 },
 "nbformat": 4,
 "nbformat_minor": 2
}
